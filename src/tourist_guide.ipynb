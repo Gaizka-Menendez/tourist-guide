{
 "cells": [
  {
   "cell_type": "markdown",
   "id": "ff95c669",
   "metadata": {},
   "source": [
    "# Intelligent Tourist Guide\n",
    "\n",
    "***Gaizka Menéndez Hernández***\n",
    "\n",
    "The goal of this project is to build an intelligent tourist agent based on  Retrieval-Augmented Generation (RAG) models. This system is designed to help tourists with well founded and reliable knowledge about 5 destinations from Spain (Barcelona, Bilbao, Tenerife, Valencia and Vigo) and the weather forecast that will be found in those places."
   ]
  },
  {
   "cell_type": "markdown",
   "id": "ba6c3afb",
   "metadata": {},
   "source": [
    "## Dependencies installation\n",
    "\n",
    "We install the main dependencies that will be used alongside this notebook like LangChain, langgraph, google-genai, pypdf2, ..."
   ]
  },
  {
   "cell_type": "code",
   "execution_count": 1,
   "id": "02d38c07",
   "metadata": {},
   "outputs": [
    {
     "name": "stdout",
     "output_type": "stream",
     "text": [
      "Note: you may need to restart the kernel to use updated packages.\n"
     ]
    }
   ],
   "source": [
    "%pip install -q -r ../requirements.txt"
   ]
  },
  {
   "cell_type": "markdown",
   "id": "27458f64",
   "metadata": {},
   "source": [
    "## Load the Google API"
   ]
  },
  {
   "cell_type": "markdown",
   "id": "89930d76",
   "metadata": {},
   "source": [
    "First we load the .env file by using load_dotenv() with the corresponding API's that we're going to use to make the corresponding calls to the models."
   ]
  },
  {
   "cell_type": "code",
   "execution_count": 2,
   "id": "df8571e2",
   "metadata": {},
   "outputs": [],
   "source": [
    "import os, getpass\n",
    "from dotenv import load_dotenv\n",
    "\n",
    "# cargamos las variables/claves desde el .env\n",
    "dotenv_loaded = load_dotenv()\n",
    "\n",
    "if not os.environ.get(\"GOOGLE_API_KEY\"):\n",
    "    os.environ[\"GOOGLE_API_KEY\"] = getpass.getpass(\"Google API Key was not set properly, please share it here: \")\n",
    "    \n",
    "if not os.environ.get(\"OPENWEATHER_API_KEY\"):\n",
    "    os.environ[\"OPENWEATHER_API_KEY\"] = getpass.getpass(\"OpenWeather API Key was not set properly, please share it here: \")\n",
    "    \n",
    "# comprobamos que se han cargado correctamente\n",
    "if os.environ[\"GOOGLE_API_KEY\"]==\"\" or os.environ[\"OPENWEATHER_API_KEY\"]==\"\":\n",
    "    print(\"'GOOGLE_API_KEY' wasn't set correctly. Please make sure the keys/variables are accesible\")"
   ]
  },
  {
   "cell_type": "markdown",
   "id": "bb7b3e98",
   "metadata": {},
   "source": [
    "Let's make a little trial to ensure the API key is valid."
   ]
  },
  {
   "cell_type": "code",
   "execution_count": 3,
   "id": "b736c64b",
   "metadata": {},
   "outputs": [
    {
     "name": "stdout",
     "output_type": "stream",
     "text": [
      "El máximo goleador vasco de LaLiga en la temporada 2020-2021 fue **Mikel Oyarzabal** de la Real Sociedad, con **11 goles**.\n"
     ]
    }
   ],
   "source": [
    "from google import genai\n",
    "\n",
    "client = genai.Client()\n",
    "\n",
    "response = client.models.generate_content(\n",
    "    model=\"gemini-2.5-flash\",\n",
    "    contents=\"Dime quien es el máximo goleador vasco de LaLiga en la temporada 2020-2021\",\n",
    ")\n",
    "\n",
    "print(response.text)"
   ]
  },
  {
   "cell_type": "markdown",
   "id": "a8a832ec",
   "metadata": {},
   "source": [
    "## Data Preprocessing"
   ]
  },
  {
   "cell_type": "markdown",
   "id": "3b3ef5c6",
   "metadata": {},
   "source": [
    "We use a set of PDFs located in the data folder. These documents contain the touristic information of the cities mentioned above, which we wish to advise on to tourists. \n",
    "\n",
    "Firstly we will load and parse the text from each of the documents so it can go through our RAG pipeline. Later divide the global text in chunks so it's more manageable. To do this, we implemented a helper function that iterates through each file, splits it into pages, and extracts the textual content. For this purpose we are using the [PyPDF2](https://pypi.org/project/PyPDF2/) library."
   ]
  },
  {
   "cell_type": "code",
   "execution_count": 4,
   "id": "d8becab5",
   "metadata": {},
   "outputs": [],
   "source": [
    "from PyPDF2 import PdfReader\n",
    "\n",
    "def document_reader(path, doc_name):\n",
    "    \n",
    "    # Abrimos el archivo para leerlo de forma binaria\n",
    "    doc_path = path + doc_name\n",
    "    pdf_reader = PdfReader(doc_path)\n",
    "    \n",
    "    global_text = []\n",
    "    for i, page in enumerate(pdf_reader.pages, start=1):\n",
    "        text = page.extract_text()\n",
    "        # global_text[pdf_reader.pages[i].extract_text()] = {f\"Page {i+1}\": f\"{doc_name}\"}\n",
    "        \n",
    "        global_text.append({\n",
    "            \"page_content\": text.strip(), # limpia espacios sobrentes y los saltos de linea\n",
    "            \"doc_ubication\": { \"document\": doc_name, \"page\": i }\n",
    "        })\n",
    "        \n",
    "    return global_text  "
   ]
  },
  {
   "cell_type": "markdown",
   "id": "746c549d",
   "metadata": {},
   "source": [
    "Now, by using function above we will create a list mixing everything in an only list so we have all the chunks/pages together and can operate easily."
   ]
  },
  {
   "cell_type": "code",
   "execution_count": 5,
   "id": "7776d34e",
   "metadata": {},
   "outputs": [
    {
     "name": "stdout",
     "output_type": "stream",
     "text": [
      "121 {'document': 'BARCELONA.pdf', 'page': 1}\n",
      "{'document': 'VIGO.pdf', 'page': 28}\n"
     ]
    }
   ],
   "source": [
    "def load_pdfs(data_dir=\"../data/\"):\n",
    "    documents = []\n",
    "    for file in os.listdir(\"../data/\"): # recorremos la lista de archivos en el directorio y aplicamos document_reader a cada uno de ellos\n",
    "        docs = document_reader(data_dir, file)\n",
    "        documents.extend(docs)\n",
    "    return documents\n",
    "\n",
    "documents = load_pdfs(\"../data/\")\n",
    "print(len(documents), documents[0][\"doc_ubication\"])\n",
    "print(documents[-1][\"doc_ubication\"])\n"
   ]
  },
  {
   "cell_type": "markdown",
   "id": "d8ab4dd9",
   "metadata": {},
   "source": [
    "Now we will split up everything on chunks. Each document will be having around of 40.000 characters what is a extremely large quantity if we take the whole sum of characters for every document on the data folder. Furthermore, it is not very convenient for adding them to the context window of some models, it may be difficult for these models to find the information in excessively long inputs (not to mention the increased cost of each request to the model...). Easier to manage and no-lost relevant information found at the boundaries between chunks due to the overlap thanks to the overlap used to preserve it.\n",
    "\n",
    "That's why we will use `RecursiveCharacterTextSplitter` to divide the format following a recursive strategy in the chunk_size we decide. The raw text is available is divided into chunks of approximately 1,000 characters with an overlap of 200 characters. We obtain a standardized collection of Document objects enriched with metadata (source file and page number)."
   ]
  },
  {
   "cell_type": "code",
   "execution_count": 6,
   "id": "70d71136",
   "metadata": {},
   "outputs": [
    {
     "name": "stdout",
     "output_type": "stream",
     "text": [
      "Total splits: 264\n",
      "First split content:\n",
      "page_content='www.spain.infoBarcelona' metadata={'document': 'BARCELONA.pdf', 'page': 1, 'start_index': 0}\n",
      "\n"
     ]
    }
   ],
   "source": [
    "from langchain_text_splitters import RecursiveCharacterTextSplitter\n",
    "from langchain.schema import Document\n",
    "\n",
    "text_splitter = RecursiveCharacterTextSplitter(\n",
    "    chunk_size=1000,\n",
    "    chunk_overlap=200,\n",
    "    # separators=[\"\\n\\n\", \"\\n\", \". \", \" \", \"\"],\n",
    "    add_start_index=True\n",
    ")\n",
    "\n",
    "docs = [Document(page_content=d[\"page_content\"], metadata=d[\"doc_ubication\"]) for d in documents]\n",
    "\n",
    "docs_splitted = text_splitter.split_documents(docs)\n",
    "\n",
    "print(f\"Total splits: {len(docs_splitted)}\")\n",
    "\n",
    "# Mostramos el primer split.\n",
    "print(f\"First split content:\\n{docs_splitted[0]}\\n\")"
   ]
  },
  {
   "cell_type": "code",
   "execution_count": 7,
   "id": "8685f599",
   "metadata": {},
   "outputs": [
    {
     "name": "stdout",
     "output_type": "stream",
     "text": [
      "Second split content:\n",
      "2\n",
      " Introducción 3\n",
      "Vive Barcelona: principales zonas  4\n",
      "  El Born \n",
      "  Gràcia y L´Eixample \n",
      "  Barrio Gótico \n",
      "  El Raval \n",
      "  Montjuïc \n",
      "  Plaça de Espanya \n",
      "  La Rambla \n",
      "  Basílica de la Sagrada Familia \n",
      "  Les Corts y Pedralbes \n",
      "Cultura  8\n",
      "  Museos \n",
      "  Centros de exposiciones \n",
      "Saborea Barcelona  10\n",
      "Barcelona en cada estación 12\n",
      "  Verano \n",
      "  Otoño \n",
      "  Invierno \n",
      "  Primavera \n",
      "Playas 14\n",
      "Cinco planes para disfrutar  15 \n",
      "en familia\n",
      "  PortAventura World \n",
      "  Parque de Atracciones Tibidabo \n",
      "  L ’Aquàrium \n",
      "  Zoo de Barcelona \n",
      "  Museu de la Música  \n",
      "  Las Golondrinas La ciudad escondida 16\n",
      "  Parques y jardines  \n",
      "  Museos secretos \n",
      "  Monumentos  \n",
      "  Los tejados de Barcelona \n",
      "Vivir la noche en Barcelona  19\n",
      "Rutas y paseos por la ciudad 20\n",
      "  Ruta romana \n",
      "  Ruta medieval \n",
      "  Ruta modernista \n",
      "  Ruta Gaudí \n",
      "  Ruta Miró \n",
      "  Ruta Picasso \n",
      "¿Qué visitar cerca de Barcelona? 23\n",
      "  Ciudades y lugares de interés \n",
      "  Naturaleza \n",
      "¿Cómo llegar? 25\n",
      "  AVE \n",
      "  Aeropuerto \n",
      "  Coche \n",
      "  Moverte por Barcelona\n",
      "\n"
     ]
    }
   ],
   "source": [
    "print(f\"Second split content:\\n{docs_splitted[1].page_content}\\n\")"
   ]
  },
  {
   "cell_type": "markdown",
   "id": "8ac64f46",
   "metadata": {},
   "source": [
    "Now that we have all the chunks generated, it's time to apply the embedding and to save them inside a vector store. The text of each chunk is transformed into a high-dimensional numerical vector using an embedding model, representing the semantic meaning of the text. The vectors are stored in a specialised database, FAISS (Facebook AI Similarity Search), which is optimised for fast k-nearest neighbour searches. This improves natural language information retrieval.\n",
    "\n",
    "We will use a vector store defined in memory and to generate the embeddings we will be using google embedding models."
   ]
  },
  {
   "cell_type": "code",
   "execution_count": 8,
   "id": "5daa27b5",
   "metadata": {},
   "outputs": [],
   "source": [
    "from langchain_google_genai import GoogleGenerativeAIEmbeddings\n",
    "\n",
    "embeddings = GoogleGenerativeAIEmbeddings(model=\"models/embedding-001\")"
   ]
  },
  {
   "cell_type": "code",
   "execution_count": 9,
   "id": "7312b3a7",
   "metadata": {},
   "outputs": [
    {
     "name": "stdout",
     "output_type": "stream",
     "text": [
      "['8128257a-ba57-42a4-8af6-81f6dc06235b', '17a309bd-fb1b-49e8-8a1a-d02084d7cea3', '87563e9a-4702-43c5-bdd6-adeada44442e']\n"
     ]
    }
   ],
   "source": [
    "from langchain_community.vectorstores import FAISS\n",
    "\n",
    "vector_store = FAISS.from_documents(docs_splitted, embedding=embeddings)\n",
    "document_ids = vector_store.add_documents(documents=docs_splitted)\n",
    "\n",
    "print(document_ids[:3])"
   ]
  },
  {
   "cell_type": "markdown",
   "id": "10375a87",
   "metadata": {},
   "source": [
    "## Baseline RAG Example"
   ]
  },
  {
   "cell_type": "markdown",
   "id": "bde030b8",
   "metadata": {},
   "source": [
    "Before implementing the full agent we test a minimal RAG pipeline where given a basic prompt and using the similarity_search() function to find the 4 most relevant extracts from the vector store and pass them directly to the LLM (Gemini 2.0 Flash). This help us verify the previous steps in the data preparation section where correctly taken."
   ]
  },
  {
   "cell_type": "code",
   "execution_count": 10,
   "id": "ce82109b",
   "metadata": {},
   "outputs": [],
   "source": [
    "from langchain_core.prompts import PromptTemplate\n",
    "\n",
    "rag_prompt = PromptTemplate.from_template(\n",
    "    \"You are a precise tourist guide. Use the following pieces of retrieved context to answer the question. If you don't know the answer, just say that you don't know. Use three sentences maximum and keep the answer concise. Always cite sources as as provided in the context. \\n\" +\n",
    "    \"Question: {question}\\n\" +\n",
    "    \"Context: {context}\\n\" +\n",
    "    \"Answer: \"\n",
    ")"
   ]
  },
  {
   "cell_type": "code",
   "execution_count": 11,
   "id": "fde8463a",
   "metadata": {},
   "outputs": [],
   "source": [
    "from langchain.chat_models import init_chat_model\n",
    "\n",
    "tourist_guide_llm = init_chat_model(\"gemini-2.0-flash\", model_provider=\"google_genai\")"
   ]
  },
  {
   "cell_type": "code",
   "execution_count": 12,
   "id": "00c4f438",
   "metadata": {},
   "outputs": [
    {
     "name": "stdout",
     "output_type": "stream",
     "text": [
      "Retrieved context:\n",
      "[Document(id='0d0eb658-a782-4783-b0a0-02a9c2c9d13d', metadata={'document': 'BILBAO.pdf', 'page': 1, 'start_index': 0}, page_content='www.spain.infoBilbao'), Document(id='a7fc2994-7d62-489f-a4b2-100384519ebe', metadata={'document': 'BILBAO.pdf', 'page': 1, 'start_index': 0}, page_content='www.spain.infoBilbao'), Document(id='23fa005b-a69d-4e7e-8bd6-783e02ade25d', metadata={'document': 'BARCELONA.pdf', 'page': 1, 'start_index': 0}, page_content='www.spain.infoBarcelona'), Document(id='8128257a-ba57-42a4-8af6-81f6dc06235b', metadata={'document': 'BARCELONA.pdf', 'page': 1, 'start_index': 0}, page_content='www.spain.infoBarcelona')]\n",
      "\n"
     ]
    }
   ],
   "source": [
    "question = \"que puedo ver en Bilbao?\"\n",
    "\n",
    "retrieved_docs = vector_store.similarity_search(question, k=4)\n",
    "docs_content = \"\\n\\n\".join(doc.page_content for doc in retrieved_docs)\n",
    "\n",
    "print(f\"Retrieved context:\\n{retrieved_docs}\\n\")"
   ]
  },
  {
   "cell_type": "code",
   "execution_count": 13,
   "id": "23c621b8",
   "metadata": {},
   "outputs": [],
   "source": [
    "def format_docs_with_citations(docs):\n",
    "    parts = []\n",
    "    for d in docs:\n",
    "        src = d.metadata.get(\"source\", \"unknown\").split(\"/\")[-1]\n",
    "        page = d.metadata.get(\"page\", \"NA\")\n",
    "        parts.append(f\"{d.page_content}\\n[Source: {src} Page: {page}]\")\n",
    "    return \"\\n\\n---\\n\\n\".join(parts)\n"
   ]
  },
  {
   "cell_type": "code",
   "execution_count": 14,
   "id": "913d9dc6",
   "metadata": {},
   "outputs": [
    {
     "name": "stdout",
     "output_type": "stream",
     "text": [
      "Input for the LLM:\n",
      "You are a precise tourist guide. Use the following pieces of retrieved context to answer the question. If you don't know the answer, just say that you don't know. Use three sentences maximum and keep the answer concise. Always cite sources as as provided in the context. \n",
      "Question: que puedo ver en Bilbao?\n",
      "Context: www.spain.infoBilbao\n",
      "\n",
      "www.spain.infoBilbao\n",
      "\n",
      "www.spain.infoBarcelona\n",
      "\n",
      "www.spain.infoBarcelona\n",
      "Answer: \n",
      "\n"
     ]
    }
   ],
   "source": [
    "# context = format_docs_with_citations(retrieved_docs)\n",
    "input = rag_prompt.invoke({\"question\": question, \"context\": docs_content})\n",
    "print(f\"Input for the LLM:\\n{input.text}\\n\")"
   ]
  },
  {
   "cell_type": "code",
   "execution_count": 15,
   "id": "0c2e61ee",
   "metadata": {},
   "outputs": [
    {
     "name": "stdout",
     "output_type": "stream",
     "text": [
      "LLM answer:\n",
      "I don't have enough information to answer what you can see in Bilbao. The provided context only contains URLs for tourism information about Bilbao and Barcelona from spain.info (www.spain.infoBilbao, www.spain.infoBarcelona). To find out what you can see in Bilbao, please visit www.spain.infoBilbao.\n",
      "\n"
     ]
    }
   ],
   "source": [
    "answer = tourist_guide_llm.invoke(input)\n",
    "print(f\"LLM answer:\\n{answer.content}\\n\")"
   ]
  },
  {
   "cell_type": "markdown",
   "id": "81944561",
   "metadata": {},
   "source": [
    "Now after trying each step separatedly we can build the chat by combining the retrieval part with the LLM use."
   ]
  },
  {
   "cell_type": "code",
   "execution_count": 17,
   "id": "6b703f4c",
   "metadata": {},
   "outputs": [
    {
     "name": "stdout",
     "output_type": "stream",
     "text": [
      "I can suggest visiting the Auditorio de Tenerife and Plaza de España for a 1-day itinerary in northern Tenerife (unknown Page: 2). You can find videos and locations for both online (unknown Page: 2).\n"
     ]
    }
   ],
   "source": [
    "def ask_tguide(question: str, prompt, vector_store):\n",
    "    \n",
    "    retrieved_docs = vector_store.similarity_search(question, k=4)\n",
    "    context = format_docs_with_citations(retrieved_docs)\n",
    "    input = prompt.invoke({\"question\": question, \"context\": context})\n",
    "    return tourist_guide_llm.invoke(input).content\n",
    "\n",
    "\n",
    "print(ask_tguide(\"¿Me propones un itinerario de 1 día por Tenerife norte?\", rag_prompt, vector_store))"
   ]
  },
  {
   "cell_type": "markdown",
   "id": "fe476672",
   "metadata": {},
   "source": [
    "## LangGraph Agent solution"
   ]
  },
  {
   "cell_type": "markdown",
   "id": "3a258c9b",
   "metadata": {},
   "source": [
    "Our first solution will be an Agent created with LangGraph. Here it's important to remark that we created two functions, one to retrieve certain information from the documents and another one to get the weather from the destination asked. The agent will be provided with both and it will decide depending on the tourist question."
   ]
  },
  {
   "cell_type": "code",
   "execution_count": 18,
   "id": "5c72c3e8",
   "metadata": {},
   "outputs": [],
   "source": [
    "from langgraph.graph import MessagesState\n",
    "from langgraph.graph import START, StateGraph\n",
    "\n",
    "graph_builder = StateGraph(MessagesState)"
   ]
  },
  {
   "cell_type": "markdown",
   "id": "7f2629dc",
   "metadata": {},
   "source": [
    "Here are defined both tools mentioned before.\n",
    "\n",
    "* For the retrieve function, we choose the 30 chunks more relevant to the query with a semantic search (vector_store.as_retriever()). Those 30 chunks are passed to a reranking model and a cross-encoder, for this case I used the one considered standard for information retrieval purposes. It evaluates query and document together to calculate a relevancy score. it chooses the best 4 scores and sends them to the LLM.\n",
    "\n",
    "* On the other hand, the get_weather_function, it uses an open API (OpenMeteo) to determine the forecast in an specific longitude and latitude. Here the filter is set to only let the function calculate the forecast from one of the destinations. It makes no sense to give the weather from a place from we are not giving a touristic service."
   ]
  },
  {
   "cell_type": "code",
   "execution_count": 19,
   "id": "d2403c06",
   "metadata": {},
   "outputs": [
    {
     "name": "stdout",
     "output_type": "stream",
     "text": [
      "{'fecha': '2025-09-10', 'ciudad': 'Bilbao', 'tmax': 23.7, 'tmin': 17.1, 'lluvia_mm': 1.5, 'weathercode': 53}\n"
     ]
    }
   ],
   "source": [
    "import os, requests, json\n",
    "from langchain_core.tools import tool\n",
    "from langchain_community.cross_encoders import HuggingFaceCrossEncoder\n",
    "from langchain.retrievers.document_compressors import CrossEncoderReranker\n",
    "from langchain.retrievers import ContextualCompressionRetriever\n",
    "\n",
    "\n",
    "# coordenadas de los centros de cada destino (mas o menos), es para hacer las requests a la API Open-Meteo\n",
    "CITY_COORDS = {\n",
    "        \"barcelona\": {\"lat\": 41.3879, \"lon\": 2.16992},     \n",
    "        \"bilbao\": {\"lat\": 43.2630, \"lon\": -2.9350},        \n",
    "        \"tenerife\": {\"lat\": 28.2916, \"lon\": -16.6291},     \n",
    "        \"valencia\": {\"lat\": 39.4699, \"lon\": -0.3763},      \n",
    "        \"vigo\": {\"lat\": 42.2406, \"lon\": -8.7207},          \n",
    "    }\n",
    "\n",
    "# usamos similarity search + rearnking con cross encoder porque está demostrado que para mayor precisión usar este es optimo\n",
    "base_retriever = vector_store.as_retriever(search_kwargs={\"k\": 30})\n",
    "cross_encoder = HuggingFaceCrossEncoder(model_name=\"cross-encoder/ms-marco-MiniLM-L-6-v2\")\n",
    "reranker = CrossEncoderReranker(model=cross_encoder, top_n=4)\n",
    "retriever = ContextualCompressionRetriever(base_retriever=base_retriever, base_compressor=reranker)\n",
    "\n",
    "# Vamos a definir una funcion que determine el tiempo en las ciudades que conoce el RAG, no tiene sentido que sepa el tiempo de una que no conozca.\n",
    "@tool(\"get_weather\", description=\"Returns the forecast obtained from Open-Meteo for a date YYYY-MM-DD and city supported\")\n",
    "def get_weather(date: str, city: str, tz: str = \"Europe/Madrid\"):\n",
    "    \n",
    "    url = \"https://api.open-meteo.com/v1/forecast\"\n",
    "    c = city.lower()\n",
    "    if c not in CITY_COORDS:\n",
    "        return {\"ok\": False, \"error\": \"Ciudad no soportada\"}\n",
    "    lat, lon = CITY_COORDS[c][\"lat\"], CITY_COORDS[c][\"lon\"]\n",
    "    \n",
    "    params = {\n",
    "        \"latitude\": lat,\n",
    "        \"longitude\": lon,\n",
    "        \"daily\": \"temperature_2m_max,temperature_2m_min,precipitation_sum,weathercode\",\n",
    "        \"timezone\": tz,\n",
    "        \"start_date\": date,\n",
    "        \"end_date\": date,\n",
    "    }\n",
    "    \n",
    "    r = requests.get(url, params=params)\n",
    "    if r.status_code != 200:\n",
    "        return {\"ok\": False, \"error\": f\"HTTP {r.status_code}\"}\n",
    "    d = r.json()[\"daily\"]\n",
    "    \n",
    "    return {\n",
    "        \"fecha\": date,\n",
    "        \"ciudad\": city,\n",
    "        \"tmax\": d.get(\"temperature_2m_max\", [None])[0],\n",
    "        \"tmin\": d.get(\"temperature_2m_min\", [None])[0],\n",
    "        \"lluvia_mm\": d.get(\"precipitation_sum\", [None])[0],\n",
    "        \"weathercode\": d.get(\"weathercode\", [None])[0],\n",
    "    }\n",
    "\n",
    "\n",
    "@tool(response_format=\"content_and_artifact\")\n",
    "def retrieve(query: str):\n",
    "    \"\"\"Retrieve information related to a query.\"\"\"\n",
    "    \n",
    "    # Cambiamos de get_relevant_documents a invoke porque me daba un warning que nos devolvía cuando ejecutamos la celda de prueba y ensuciaba la salida de la celda:\n",
    "    #  LangChainDeprecationWarning: The method `BaseRetriever.get_relevant_documents` was deprecated in langchain-core 0.1.46 and will be removed in 1.0. Use :meth:`~invoke` instead.\n",
    "    # retrieved_docs = retriever.get_relevant_documents(query)\n",
    "    retrieved_docs = retriever.invoke(query)\n",
    "    # retrieved_docs = vector_store.similarity_search(query, k=2)\n",
    "    \n",
    "    if not retrieved_docs:\n",
    "        return \"Could'nt find any relevant information for the query.\", []\n",
    "    \n",
    "    serialized = \"\\n\\n\".join(\n",
    "        (f\"Source: {doc.metadata}\\n\" f\"Content: {doc.page_content}\")\n",
    "        for doc in retrieved_docs\n",
    "    )\n",
    "    return serialized, retrieved_docs\n",
    "\n",
    "print(get_weather.invoke({\"date\": \"2025-09-10\", \"city\": \"Bilbao\"}))\n",
    "\n",
    "result = retrieve.invoke({\"query\": \"Qué ver en Bilbao\"})"
   ]
  },
  {
   "cell_type": "markdown",
   "id": "9a5240a5",
   "metadata": {},
   "source": [
    "The prompt below was adapted and refined to fit the specific requirements of the project (destinations restriction and only relevant questions for a tourist guide)."
   ]
  },
  {
   "cell_type": "code",
   "execution_count": 62,
   "id": "4949516f",
   "metadata": {},
   "outputs": [],
   "source": [
    "AGENT_SYSTEM_PROMPT = \"\"\"\n",
    "You are a tourist guide for only five Spanish destinations:\n",
    "Barcelona, Bilbao, Galicia, Tenerife, and Valencia.\n",
    "\n",
    "Answer only tourism-related questions about these places, anything else.\n",
    "If the question is about another topic or city, politely refuse and insist on the idea you're a tourist guide.\n",
    "\n",
    "Use `retrieve` for factual answers and `get_weather(date, city)` for weather.\n",
    "If information is missing or not found in the retrieved documents, it's mandatory you say you don’t know.\n",
    "\n",
    "Keep answers short (3–5 sentences), clear, and include citations if provided.\n",
    "\n",
    "Context:\n",
    "{retrieved_context}\n",
    "\"\"\".strip()\n"
   ]
  },
  {
   "cell_type": "code",
   "execution_count": 66,
   "id": "ea2419a1",
   "metadata": {},
   "outputs": [],
   "source": [
    "from langchain_core.tools import tool\n",
    "from langchain_core.messages import SystemMessage\n",
    "from langgraph.prebuilt import ToolNode\n",
    "     \n",
    "\n",
    "def query_or_respond(state: MessagesState):\n",
    "    \"\"\"Generate tool call for retrieval or respond directly.\"\"\"\n",
    "    touristic_llm_with_tools = tourist_guide_llm.bind_tools([retrieve, get_weather])\n",
    "    response = touristic_llm_with_tools.invoke(state[\"messages\"])\n",
    "    # MessagesState añade los mensajes al estado en lugar de sobrescribirlos.\n",
    "    return {\"messages\": [response]}\n",
    "\n",
    "tools = ToolNode([retrieve, get_weather])\n",
    "\n",
    "def generate(state: MessagesState):\n",
    "    \"\"\"Generate answer.\"\"\"\n",
    "    # Obtenemos los mensajes con rol ToolMessage\n",
    "    recent_tool_messages = []\n",
    "    for message in reversed(state[\"messages\"]):\n",
    "        if message.type == \"tool\":\n",
    "            recent_tool_messages.append(message)\n",
    "        else:\n",
    "            break\n",
    "    tool_messages = recent_tool_messages[::-1]\n",
    "\n",
    "    # Formateamos el contenido en el prompt\n",
    "    docs_content = \"\\n\\n\".join(doc.content for doc in tool_messages)\n",
    "    system_message_content = AGENT_SYSTEM_PROMPT.format(retrieved_context=docs_content)\n",
    "    \n",
    "    # (\n",
    "    #     \"You are a precise tourist guide. \"\n",
    "    #     \"Use the following pieces of retrieved context to answer the question. \"\n",
    "    #     \"If you don't know the answer, just say that you don't know. \"\n",
    "    #     \"Use three sentences maximum and keep the answer concise.\"\n",
    "    #     \"\\n\\n\"\n",
    "    #     f\"{docs_content}\"\n",
    "    # )\n",
    "    conversation_messages = [\n",
    "        message\n",
    "        for message in state[\"messages\"]\n",
    "        if message.type in (\"human\", \"system\")\n",
    "        or (message.type == \"ai\" and not message.tool_calls)\n",
    "    ]\n",
    "    prompt = [SystemMessage(system_message_content)] + conversation_messages\n",
    "\n",
    "    # Generamos la respuesta final\n",
    "    response = tourist_guide_llm.invoke(prompt)\n",
    "    return {\"messages\": [response]}"
   ]
  },
  {
   "cell_type": "markdown",
   "id": "6613d28d",
   "metadata": {},
   "source": [
    "After finishing every part definition we add everything to the graph. \n",
    "\n",
    "The entry point is query_or_respond, which decides whether to directly answer or call a tool.\n",
    "If a tool call is required, control passes to the tools node, and afterwards to generate for the final response.\n",
    "If no tool is needed, the graph ends immediately.\n",
    "\n",
    "We compile without memory saving so the agent won't have context from previous questions made."
   ]
  },
  {
   "cell_type": "code",
   "execution_count": 22,
   "id": "78497939",
   "metadata": {},
   "outputs": [],
   "source": [
    "from langgraph.graph import END\n",
    "from langgraph.prebuilt import tools_condition\n",
    "\n",
    "graph_builder.add_node(query_or_respond)\n",
    "graph_builder.add_node(tools)\n",
    "graph_builder.add_node(generate)\n",
    "\n",
    "graph_builder.set_entry_point(\"query_or_respond\")\n",
    "graph_builder.add_conditional_edges(\n",
    "    \"query_or_respond\",\n",
    "    tools_condition,\n",
    "    {END: END, \"tools\": \"tools\"},\n",
    ")\n",
    "graph_builder.add_edge(\"tools\", \"generate\")\n",
    "graph_builder.add_edge(\"generate\", END)\n",
    "\n",
    "graph = graph_builder.compile()"
   ]
  },
  {
   "cell_type": "code",
   "execution_count": 23,
   "id": "bc3b9395",
   "metadata": {},
   "outputs": [
    {
     "data": {
      "image/png": "[encoded data removed]",
      "text/plain": [
       "<IPython.core.display.Image object>"
      ]
     },
     "metadata": {},
     "output_type": "display_data"
    }
   ],
   "source": [
    "from IPython.display import Image, display\n",
    "\n",
    "display(Image(graph.get_graph().draw_mermaid_png()))"
   ]
  },
  {
   "cell_type": "markdown",
   "id": "124b53b9",
   "metadata": {},
   "source": [
    "Some examples:"
   ]
  },
  {
   "cell_type": "code",
   "execution_count": 24,
   "id": "b6edb143",
   "metadata": {},
   "outputs": [
    {
     "name": "stdout",
     "output_type": "stream",
     "text": [
      "{'query_or_respond': {'messages': [AIMessage(content='Hi, how can I help you today?', additional_kwargs={}, response_metadata={'prompt_feedback': {'block_reason': 0, 'safety_ratings': []}, 'finish_reason': 'STOP', 'model_name': 'gemini-2.0-flash', 'safety_ratings': []}, id='run--3490bb5b-46e2-46a0-995e-68127b093065-0', usage_metadata={'input_tokens': 45, 'output_tokens': 10, 'total_tokens': 55, 'input_token_details': {'cache_read': 0}})]}}\n",
      "\n",
      "-------------------------\n",
      "\n"
     ]
    }
   ],
   "source": [
    "input_message = \"Hello\"\n",
    "\n",
    "for step in graph.stream(\n",
    "    {\"messages\": [{\"role\": \"user\", \"content\": input_message}]},\n",
    "    stream_mode=\"updates\"\n",
    "):\n",
    "    print(f\"{step}\\n\\n-------------------------\\n\")"
   ]
  },
  {
   "cell_type": "code",
   "execution_count": 25,
   "id": "91e57f1c",
   "metadata": {},
   "outputs": [
    {
     "name": "stdout",
     "output_type": "stream",
     "text": [
      "{'query_or_respond': {'messages': [AIMessage(content='', additional_kwargs={'function_call': {'name': 'retrieve', 'arguments': '{\"query\": \"things to see in Barcelona for one day\"}'}}, response_metadata={'prompt_feedback': {'block_reason': 0, 'safety_ratings': []}, 'finish_reason': 'STOP', 'model_name': 'gemini-2.0-flash', 'safety_ratings': []}, id='run--69d3efe8-ddda-46ca-a84d-6e3948f9daba-0', tool_calls=[{'name': 'retrieve', 'args': {'query': 'things to see in Barcelona for one day'}, 'id': '49353eb2-0b69-448b-bb49-692b648703dc', 'type': 'tool_call'}], usage_metadata={'input_tokens': 55, 'output_tokens': 10, 'total_tokens': 65, 'input_token_details': {'cache_read': 0}})]}}\n",
      "\n",
      "-------------------------\n",
      "\n",
      "{'tools': {'messages': [ToolMessage(content=\"Source: {'document': 'BARCELONA.pdf', 'page': 18, 'start_index': 806}\\nContent: te frente a su estanque con cascada. T ó -\\nmate una copa de vino mientras disfru -\\ntas de las vistas en las terrazas que hay \\ncerca del Mirador de los Jardines de \\nMiramar . O pon rumbo al Mirador del \\nMigdia , el más desconocido, y disfruta \\nde unas vistas fantásticas de la ciudad \\nmientras aspiras el aroma de los frondo -\\nsos pinos que lo rodea. BARCELONA\\n18\\n\\nSource: {'document': 'BARCELONA.pdf', 'page': 18, 'start_index': 806}\\nContent: te frente a su estanque con cascada. T ó -\\nmate una copa de vino mientras disfru -\\ntas de las vistas en las terrazas que hay \\ncerca del Mirador de los Jardines de \\nMiramar . O pon rumbo al Mirador del \\nMigdia , el más desconocido, y disfruta \\nde unas vistas fantásticas de la ciudad \\nmientras aspiras el aroma de los frondo -\\nsos pinos que lo rodea. BARCELONA\\n18\\n\\nSource: {'document': 'BARCELONA.pdf', 'page': 27, 'start_index': 0}\\nContent: 27MÁS INFORMACIÓN:\\nOFICINA DE TURISMO  \\nDE BARCELONA \\nPlaça de Catalunya, 17-S  \\n08002 Barcelonawww.visitbarcelona.com  \\ntickets.visitbarcelona.com\\nPORTAL OFICIAL DEL  \\nTURISMO ESPAÑOL \\nwww.spain.info\\n\\nSource: {'document': 'BARCELONA.pdf', 'page': 27, 'start_index': 0}\\nContent: 27MÁS INFORMACIÓN:\\nOFICINA DE TURISMO  \\nDE BARCELONA \\nPlaça de Catalunya, 17-S  \\n08002 Barcelonawww.visitbarcelona.com  \\ntickets.visitbarcelona.com\\nPORTAL OFICIAL DEL  \\nTURISMO ESPAÑOL \\nwww.spain.info\", name='retrieve', id='532a5269-040b-4822-abbe-bfd2b19b4236', tool_call_id='49353eb2-0b69-448b-bb49-692b648703dc', artifact=[Document(id='fe74f520-72ea-4baa-a9f3-ebe9e17b87c3', metadata={'document': 'BARCELONA.pdf', 'page': 18, 'start_index': 806}, page_content='te frente a su estanque con cascada. T ó -\\nmate una copa de vino mientras disfru -\\ntas de las vistas en las terrazas que hay \\ncerca del Mirador de los Jardines de \\nMiramar . O pon rumbo al Mirador del \\nMigdia , el más desconocido, y disfruta \\nde unas vistas fantásticas de la ciudad \\nmientras aspiras el aroma de los frondo -\\nsos pinos que lo rodea. BARCELONA\\n18'), Document(id='7c178cdd-1612-41ee-a9c3-8658beb65efe', metadata={'document': 'BARCELONA.pdf', 'page': 18, 'start_index': 806}, page_content='te frente a su estanque con cascada. T ó -\\nmate una copa de vino mientras disfru -\\ntas de las vistas en las terrazas que hay \\ncerca del Mirador de los Jardines de \\nMiramar . O pon rumbo al Mirador del \\nMigdia , el más desconocido, y disfruta \\nde unas vistas fantásticas de la ciudad \\nmientras aspiras el aroma de los frondo -\\nsos pinos que lo rodea. BARCELONA\\n18'), Document(id='31e33bd4-41aa-4cea-b241-c1ac407e67c2', metadata={'document': 'BARCELONA.pdf', 'page': 27, 'start_index': 0}, page_content='27MÁS INFORMACIÓN:\\nOFICINA DE TURISMO  \\nDE BARCELONA \\nPlaça de Catalunya, 17-S  \\n08002 Barcelonawww.visitbarcelona.com  \\ntickets.visitbarcelona.com\\nPORTAL OFICIAL DEL  \\nTURISMO ESPAÑOL \\nwww.spain.info'), Document(id='9494d8da-12ee-42dc-a53f-b38956cfcde0', metadata={'document': 'BARCELONA.pdf', 'page': 27, 'start_index': 0}, page_content='27MÁS INFORMACIÓN:\\nOFICINA DE TURISMO  \\nDE BARCELONA \\nPlaça de Catalunya, 17-S  \\n08002 Barcelonawww.visitbarcelona.com  \\ntickets.visitbarcelona.com\\nPORTAL OFICIAL DEL  \\nTURISMO ESPAÑOL \\nwww.spain.info')])]}}\n",
      "\n",
      "-------------------------\n",
      "\n",
      "{'generate': {'messages': [AIMessage(content='In Barcelona, you can enjoy views from terraces near the Mirador de los Jardines de Miramar or visit the Mirador del Migdia for city views and pine aromas [BARCELONA.pdf, 18]. For more information, you can check the Barcelona Tourist Office at Plaça de Catalunya, 17-S [BARCELONA.pdf, 27]. You can also visit www.visitbarcelona.com or tickets.visitbarcelona.com [BARCELONA.pdf, 27].', additional_kwargs={}, response_metadata={'prompt_feedback': {'block_reason': 0, 'safety_ratings': []}, 'finish_reason': 'STOP', 'model_name': 'gemini-2.0-flash', 'safety_ratings': []}, id='run--09881f88-67fb-4ff6-8dc5-ce3253e57c56-0', usage_metadata={'input_tokens': 591, 'output_tokens': 104, 'total_tokens': 695, 'input_token_details': {'cache_read': 0}})]}}\n",
      "\n",
      "-------------------------\n",
      "\n"
     ]
    }
   ],
   "source": [
    "input_message = \"What can I see in Barcelona for one day visit?\"\n",
    "\n",
    "for step in graph.stream(\n",
    "    {\"messages\": [{\"role\": \"user\", \"content\": input_message}]},\n",
    "    stream_mode=\"updates\"\n",
    "):\n",
    "    print(f\"{step}\\n\\n-------------------------\\n\")"
   ]
  },
  {
   "cell_type": "code",
   "execution_count": 26,
   "id": "8c655b02",
   "metadata": {},
   "outputs": [
    {
     "name": "stdout",
     "output_type": "stream",
     "text": [
      "{'query_or_respond': {'messages': [AIMessage(content='', additional_kwargs={'function_call': {'name': 'get_weather', 'arguments': '{\"city\": \"Bilbao\", \"date\": \"2025-09-08\"}'}}, response_metadata={'prompt_feedback': {'block_reason': 0, 'safety_ratings': []}, 'finish_reason': 'STOP', 'model_name': 'gemini-2.0-flash', 'safety_ratings': []}, id='run--9446c577-c620-4305-b52b-03305811ab4f-0', tool_calls=[{'name': 'get_weather', 'args': {'city': 'Bilbao', 'date': '2025-09-08'}, 'id': 'be15b1c9-7551-455c-ac44-273c8be89012', 'type': 'tool_call'}], usage_metadata={'input_tokens': 67, 'output_tokens': 17, 'total_tokens': 84, 'input_token_details': {'cache_read': 0}})]}}\n",
      "\n",
      "-------------------------\n",
      "\n",
      "{'tools': {'messages': [ToolMessage(content='{\"fecha\": \"2025-09-08\", \"ciudad\": \"Bilbao\", \"tmax\": 20.9, \"tmin\": 17.7, \"lluvia_mm\": 5.0, \"weathercode\": 63}', name='get_weather', id='a4d3a316-a493-4ea2-aefc-5ca543d0acd9', tool_call_id='be15b1c9-7551-455c-ac44-273c8be89012')]}}\n",
      "\n",
      "-------------------------\n",
      "\n",
      "{'generate': {'messages': [AIMessage(content='The weather in Bilbao for 2025-09-08 will be drizzle, with a maximum temperature of 20.9 degrees Celsius and a minimum of 17.7 degrees Celsius. There will be 5.0mm of rain.', additional_kwargs={}, response_metadata={'prompt_feedback': {'block_reason': 0, 'safety_ratings': []}, 'finish_reason': 'STOP', 'model_name': 'gemini-2.0-flash', 'safety_ratings': []}, id='run--2af4f6d6-bcff-46f9-b3b6-5233235bf12b-0', usage_metadata={'input_tokens': 191, 'output_tokens': 55, 'total_tokens': 246, 'input_token_details': {'cache_read': 0}})]}}\n",
      "\n",
      "-------------------------\n",
      "\n"
     ]
    }
   ],
   "source": [
    "input_message = \"What is the weather for tomorrow being the date 2025-09-08 in Bilbao?\"\n",
    "\n",
    "for step in graph.stream(\n",
    "    {\"messages\": [{\"role\": \"user\", \"content\": input_message}]},\n",
    "    stream_mode=\"updates\"\n",
    "):\n",
    "    print(f\"{step}\\n\\n-------------------------\\n\")"
   ]
  },
  {
   "cell_type": "markdown",
   "id": "5ec75c81",
   "metadata": {},
   "source": [
    "Now, we add the memory option with MemorySaver. This helps the model have a previous context of each question asked to him. This is done whit a config parameter where you can specify the id of the chat and every question done there."
   ]
  },
  {
   "cell_type": "code",
   "execution_count": 67,
   "id": "3f62137c",
   "metadata": {},
   "outputs": [],
   "source": [
    "from langgraph.checkpoint.memory import MemorySaver\n",
    "\n",
    "memory = MemorySaver()\n",
    "graph = graph_builder.compile(checkpointer=memory)\n",
    "\n",
    "# Debemos especificar un ID para el hilo de conversación\n",
    "config = {\"configurable\": {\"thread_id\": \"00001\"}}"
   ]
  },
  {
   "cell_type": "code",
   "execution_count": 56,
   "id": "afdb0254",
   "metadata": {},
   "outputs": [
    {
     "name": "stdout",
     "output_type": "stream",
     "text": [
      "================================\u001b[1m Human Message \u001b[0m=================================\n",
      "\n",
      "Cual es el mejor sitio para ir a comer en Tenerife para comer arepas?\n",
      "==================================\u001b[1m Ai Message \u001b[0m==================================\n",
      "Tool Calls:\n",
      "  retrieve (fc7d3c54-067c-4dce-8817-d7393aa24e45)\n",
      " Call ID: fc7d3c54-067c-4dce-8817-d7393aa24e45\n",
      "  Args:\n",
      "    query: best arepas restaurant in Tenerife\n",
      "=================================\u001b[1m Tool Message \u001b[0m=================================\n",
      "Name: retrieve\n",
      "\n",
      "Source: {'document': 'TENERIFE.pdf', 'page': 25, 'start_index': 0}\n",
      "Content: ▪ Arepera La Carajita (entre La Orotava y el Puerto de la Cruz \n",
      "[ubicación ]. Este  sitio  tiene  las mejores  arepas  que podréis  comer  en \n",
      "vuestra vida y son baratísimas. Recomendación: La Fogalera  y Reina \n",
      "Pepiada . Y pedir de entrantes una degustación de cachapitas) . \n",
      "Importante ir con hambre.  \n",
      "▪ Atuvera  (entre  La Orotava  y el Puerto  de la Cruz  [ubicación ]). \n",
      "Recomendable reservar.  \n",
      "▪ Restaurante  Fujiyama  (sushi en  la zona de  Santa  Cruz [ubicación ]) \n",
      " \n",
      "Y me estoy  dejando  tropecientos  mil sitios,  pero  disfrutad  de la isla y organizad  bien  los días \n",
      "para  que os cunda.   \n",
      "Un abrazo.\n",
      "\n",
      "Source: {'document': 'TENERIFE.pdf', 'page': 25, 'start_index': 0}\n",
      "Content: ▪ Arepera La Carajita (entre La Orotava y el Puerto de la Cruz \n",
      "[ubicación ]. Este  sitio  tiene  las mejores  arepas  que podréis  comer  en \n",
      "vuestra vida y son baratísimas. Recomendación: La Fogalera  y Reina \n",
      "Pepiada . Y pedir de entrantes una degustación de cachapitas) . \n",
      "Importante ir con hambre.  \n",
      "▪ Atuvera  (entre  La Orotava  y el Puerto  de la Cruz  [ubicación ]). \n",
      "Recomendable reservar.  \n",
      "▪ Restaurante  Fujiyama  (sushi en  la zona de  Santa  Cruz [ubicación ]) \n",
      " \n",
      "Y me estoy  dejando  tropecientos  mil sitios,  pero  disfrutad  de la isla y organizad  bien  los días \n",
      "para  que os cunda.   \n",
      "Un abrazo.\n",
      "\n",
      "Source: {'document': 'TENERIFE.pdf', 'page': 2, 'start_index': 0}\n",
      "Content: o Auditorio  de Tenerife  [vídeo  - ubicación ] \n",
      " \n",
      " \n",
      "o Plaza  de España [ vídeo  - ubicación ]\n",
      "\n",
      "Source: {'document': 'TENERIFE.pdf', 'page': 2, 'start_index': 0}\n",
      "Content: o Auditorio  de Tenerife  [vídeo  - ubicación ] \n",
      " \n",
      " \n",
      "o Plaza  de España [ vídeo  - ubicación ]\n",
      "==================================\u001b[1m Ai Message \u001b[0m==================================\n",
      "\n",
      "Arepera La Carajita, located between La Orotava and Puerto de la Cruz, is known for serving the best and most affordable arepas. It's recommended to try La Fogalera and Reina Pepiada, and start with a tasting of cachapitas, and it is important to go hungry [TENERIFE.pdf, 25].\n"
     ]
    }
   ],
   "source": [
    "input_message = \"Cual es el mejor sitio para ir a comer en Tenerife para comer arepas?\"\n",
    "\n",
    "for step in graph.stream(\n",
    "    {\"messages\": [{\"role\": \"user\", \"content\": input_message}]},\n",
    "    stream_mode=\"values\",\n",
    "    config=config,\n",
    "):\n",
    "    step[\"messages\"][-1].pretty_print()"
   ]
  },
  {
   "cell_type": "markdown",
   "id": "f6ca26cc",
   "metadata": {},
   "source": [
    "Finally, we can create the agent using the LLM chosen and passing him the tools created and the memory defined previously."
   ]
  },
  {
   "cell_type": "code",
   "execution_count": 68,
   "id": "35e7ec1a",
   "metadata": {},
   "outputs": [],
   "source": [
    "from langgraph.prebuilt import create_react_agent\n",
    "\n",
    "agent_executor = create_react_agent(\n",
    "    model=tourist_guide_llm, \n",
    "    tools=[retrieve, get_weather],\n",
    "    checkpointer=memory\n",
    ")"
   ]
  },
  {
   "cell_type": "code",
   "execution_count": 58,
   "id": "af52164d",
   "metadata": {},
   "outputs": [
    {
     "data": {
      "image/png": "[encoded data removed]",
      "text/plain": [
       "<IPython.core.display.Image object>"
      ]
     },
     "metadata": {},
     "output_type": "display_data"
    }
   ],
   "source": [
    "display(Image(agent_executor.get_graph().draw_mermaid_png()))"
   ]
  },
  {
   "cell_type": "code",
   "execution_count": 69,
   "id": "c8aaef6a",
   "metadata": {},
   "outputs": [
    {
     "name": "stdout",
     "output_type": "stream",
     "text": [
      "================================\u001b[1m Human Message \u001b[0m=================================\n",
      "\n",
      "What is the standard method for Task Decomposition?\n",
      "\n",
      "\n",
      "==================================\u001b[1m Ai Message \u001b[0m==================================\n",
      "\n",
      "Sorry, I am unable to provide information on task decomposition using the available tools.\n"
     ]
    }
   ],
   "source": [
    "config = {\"configurable\": {\"thread_id\": \"00001\"}}\n",
    "\n",
    "input_message = (\n",
    "    \"What is the standard method for Task Decomposition?\\n\\n\"\n",
    ")\n",
    "\n",
    "for event in agent_executor.stream(\n",
    "    {\"messages\": [{\"role\": \"user\", \"content\": input_message}]},\n",
    "    stream_mode=\"values\",\n",
    "    config=config,\n",
    "):\n",
    "    event[\"messages\"][-1].pretty_print()"
   ]
  },
  {
   "cell_type": "markdown",
   "id": "38a36ecb",
   "metadata": {},
   "source": [
    "## Hybrid RAG\n",
    "\n",
    "We have already built an agent that serves perfectly as a tourist guide for those cities. After looking for some advice and reading some articles to improve this work I came across an article from a Software engineer working on the AI field (Alex Thomas) that recommends the use of Hybrid Retrieval Agents architecture for this kind of purposes to obtain better results. To implement this kind of models we will be using [BM25](https://python.langchain.com/docs/integrations/retrievers/bm25/) from LangChain.\n",
    "\n",
    "In this cell we define the hybrid retriever that powers our RAG system. Instead of relying on a single search strategy, we combine two complementary approaches:\n",
    "\n",
    "* BM25 (lexical search), which is very good at exact keyword matches (useful for names like “Guggenheim” or “La Sagrada Familia”).\n",
    "\n",
    "* Densified retriever with MMR (Maximal Marginal Relevance), which uses semantic embeddings to capture meaning and adds diversity to avoid redundant passages.\n",
    "\n",
    "We then merge them with an EnsembleRetriever, giving a bit more weight to the dense search (0.6 vs 0.4) to favor semantic understanding while still keeping lexical precision. Finally, we pass the results through a cross-encoder reranker, which re-scores and keeps only the most relevant passages for the final context.The result is a balanced and precise retriever."
   ]
  },
  {
   "cell_type": "code",
   "execution_count": 70,
   "id": "535742b2",
   "metadata": {},
   "outputs": [],
   "source": [
    "from langchain_community.retrievers import BM25Retriever\n",
    "from langchain.retrievers import EnsembleRetriever\n",
    "from langchain.retrievers import ContextualCompressionRetriever\n",
    "from langchain_core.tools import tool\n",
    "\n",
    "# arriba nuestros chunks los hemos definido como docs_splitted\n",
    "bm25 = BM25Retriever.from_documents(docs_splitted)\n",
    "bm25.k = 12\n",
    "\n",
    "# Nos traemos el retriever original que habíamos empleado antes pero esta vez con búsqueda Maximal Marginal Relevance (MMR)\n",
    "# Se trae 60 chunks, coge los 18 mas importantes \n",
    "original_retriever_densified = vector_store.as_retriever(search_type=\"mmr\", search_kwargs={\"k\": 18, \"fetch_k\": 60, \"lambda_mult\": 0.5})\n",
    "\n",
    "# Combinamos ambos tipos de reteriever, pesos lexical 0.4, denso 0.6\n",
    "combined_retriever = EnsembleRetriever(retrievers=[bm25, original_retriever_densified], weights=[0.4, 0.6])\n",
    "hybrid_retriever = ContextualCompressionRetriever(base_retriever=combined_retriever, base_compressor=reranker)\n",
    "\n",
    "# Una vez redefinido nuestro nuevo retriever redefiniremos nuestra función encargada de darle el contexto al LLM\n",
    "\n",
    "@tool(response_format=\"content_and_artifact\")\n",
    "def hybrid_retrieve(query: str):\n",
    "    \"\"\"Retrieve information related to a query.\"\"\"\n",
    "    \n",
    "    # Cambiamos de get_relevant_documents a invoke por un warning que nos devolvía cuando ejecutamos la celda de prueba:\n",
    "    #  LangChainDeprecationWarning: The method `BaseRetriever.get_relevant_documents` was deprecated in langchain-core 0.1.46 and will be removed in 1.0. Use :meth:`~invoke` instead.\n",
    "    # retrieved_docs = retriever.get_relevant_documents(query)\n",
    "    retrieved_docs = hybrid_retriever.invoke(query)\n",
    "    # retrieved_docs = vector_store.similarity_search(query, k=2)\n",
    "    \n",
    "    if not retrieved_docs:\n",
    "        return \"Could'nt find any relevant information for the query.\", []\n",
    "    \n",
    "    serialized = \"\\n\\n\".join(\n",
    "        (f\"Source: {doc.metadata}\\n\" f\"Content: {doc.page_content}\")\n",
    "        for doc in retrieved_docs\n",
    "    )\n",
    "    return serialized, retrieved_docs\n",
    "\n",
    "# ahora especificamos las tool con el nuevo método de retrieve hybrid_retrieve\n",
    "tools = [hybrid_retrieve, get_weather]"
   ]
  },
  {
   "cell_type": "markdown",
   "id": "fa084250",
   "metadata": {},
   "source": [
    "We create the corresponding agent and show some examples of it's functionality."
   ]
  },
  {
   "cell_type": "code",
   "execution_count": 71,
   "id": "2122f9e5",
   "metadata": {},
   "outputs": [],
   "source": [
    "from langgraph.prebuilt import create_react_agent\n",
    "from langgraph.checkpoint.memory import MemorySaver\n",
    "\n",
    "memory = MemorySaver()\n",
    "config = {\"configurable\": {\"thread_id\": \"12002\"}}\n",
    "\n",
    "tourist_agent = create_react_agent(\n",
    "    model=tourist_guide_llm, \n",
    "    tools=tools,\n",
    "    checkpointer=memory\n",
    ")"
   ]
  },
  {
   "cell_type": "code",
   "execution_count": 72,
   "id": "ccbb2af0",
   "metadata": {},
   "outputs": [
    {
     "name": "stdout",
     "output_type": "stream",
     "text": [
      "OK. The weather in Bilbao on 2025-09-09 will be: minimum temperature 15.7 degrees Celsius, maximum temperature 21.8 degrees Celsius, precipitation 0mm, weather code 51.\n"
     ]
    }
   ],
   "source": [
    "res1 = tourist_agent.invoke(\n",
    "    {\"messages\": [{\"role\": \"user\", \"content\": \"I will visit Bilbao tomorrow, it will be 09/09/2025\"}]},\n",
    "    config=config,\n",
    ")\n",
    "print(res1[\"messages\"][-1].content)"
   ]
  },
  {
   "cell_type": "code",
   "execution_count": 73,
   "id": "28ecf5f1",
   "metadata": {},
   "outputs": [
    {
     "name": "stdout",
     "output_type": "stream",
     "text": [
      "The Guggenheim Museum Bilbao is a must-see, known for its architecture and contemporary art exhibitions. If you prefer classical art, you might want to visit a different gallery. Also consider exploring the Bilbao Art District to get a feel for the local art scene.\n"
     ]
    }
   ],
   "source": [
    "res2 = tourist_agent.invoke(\n",
    "    {\"messages\": [{\"role\": \"user\", \"content\": \"What museums do I have to see in Bilbao?\"}]},\n",
    "    config=config,\n",
    ")\n",
    "print(res2[\"messages\"][-1].content)"
   ]
  },
  {
   "cell_type": "code",
   "execution_count": 83,
   "id": "c195cb8c",
   "metadata": {},
   "outputs": [
    {
     "name": "stdout",
     "output_type": "stream",
     "text": [
      "Some recommended foods to try in Barcelona are:\n",
      "\n",
      "*   **Pa amb tomàquet:** A simple and delicious dish of tomato rubbed on toasted bread with salt and olive oil.\n",
      "*   **Calçots:** Grilled spring onions served with romesco sauce, typically available from November to April.\n",
      "*   **Crema catalana:** A classic Catalan dessert similar to crème brûlée.\n",
      "\n",
      "Also, be sure to enjoy your meal with Catalan wine or cava!\n"
     ]
    }
   ],
   "source": [
    "res3 = tourist_agent.invoke(\n",
    "    {\"messages\": [{\"role\": \"user\", \"content\": \"What typ of foods are recommended in Barcelona\"}]},\n",
    "    config=config,\n",
    ")\n",
    "print(res3[\"messages\"][-1].content)"
   ]
  },
  {
   "cell_type": "code",
   "execution_count": 84,
   "id": "82dd45d0",
   "metadata": {},
   "outputs": [
    {
     "name": "stdout",
     "output_type": "stream",
     "text": [
      "Here are some options for swimming in Vigo, based on the information I found:\n",
      "\n",
      "*   **Beaches in general:** The document mentions that Vigo's natural environment is unique and that all the parks and mountains have rivers that end in the beaches. This suggests that the beaches are a good option for swimming.\n",
      "*   **Rodas Beach (Islas Cíes):** This beach is described as the best beach in the National Park.\n",
      "*   **Samil Beach:** This beach is mentioned in the context of the Vig-Bay half-marathon, which runs along the coastline, implying it's a suitable beach.\n"
     ]
    }
   ],
   "source": [
    "res4 = tourist_agent.invoke(\n",
    "    {\"messages\": [{\"role\": \"user\", \"content\": \"I want to go Vigo, wich options do I have to go swimming\"}]},\n",
    "    config=config,\n",
    ")\n",
    "print(res4[\"messages\"][-1].content)"
   ]
  },
  {
   "cell_type": "code",
   "execution_count": 85,
   "id": "fb1ae625",
   "metadata": {},
   "outputs": [
    {
     "name": "stdout",
     "output_type": "stream",
     "text": [
      "Okay, seeing the most important parts of Valencia in one day is ambitious, but doable! Here's a possible itinerary, focusing on key highlights:\n",
      "\n",
      "**Morning (Historical & Cultural Heart):**\n",
      "\n",
      "*   **9:00 AM - 11:00 AM: Explore the Old Town (Ciutat Vella):**\n",
      "    *   Start at the **Plaza de la Virgen**, the heart of Valencia. Admire the **Valencia Cathedral** (climb the Miguelete bell tower for panoramic views if you have time/energy).\n",
      "    *   See the **Basílica de la Virgen de los Desamparados**.\n",
      "    *   Walk through the **Plaza de la Reina** and head towards the **Central Market (Mercado Central)**, one of Europe's largest and most beautiful markets.\n",
      "*   **11:00 AM - 12:00 PM: Central Market & La Lonja:**\n",
      "    *   Immerse yourself in the vibrant atmosphere of the **Mercado Central**. Grab a quick snack or drink.\n",
      "    *   Visit **La Lonja de la Seda (Silk Exchange)**, a UNESCO World Heritage Site, showcasing stunning Gothic architecture.\n",
      "\n",
      "**Lunch (Traditional Valencian Cuisine):**\n",
      "\n",
      "*   **12:00 PM - 1:30 PM: Lunch near the Old Town:**\n",
      "    *   Find a restaurant in the Old Town or nearby offering traditional Valencian cuisine. **Paella** is a must-try (make sure to ask if it's cooked fresh, as some places serve pre-made versions). Other options include *arroz a banda* or *fideuà*.\n",
      "\n",
      "**Afternoon (Modern Valencia & Gardens):**\n",
      "\n",
      "*   **1:30 PM - 3:30 PM: Turia Gardens & City of Arts and Sciences:**\n",
      "    *   Walk through the **Turia Gardens**, a unique park created in the former riverbed of the Turia. Rent a bike for a faster experience.\n",
      "    *   Head towards the **City of Arts and Sciences (Ciudad de las Artes y las Ciencias)**.\n",
      "*   **3:30 PM - 5:30 PM: City of Arts and Sciences:**\n",
      "    *   Explore the futuristic architecture of the City of Arts and Sciences.\n",
      "    *   Visit the **Oceanogràfic** (Europe's largest aquarium) if you're particularly interested in marine life (this will take at least 2-3 hours). Alternatively, visit the **Science Museum (Museu de les Ciències Príncipe Felipe)**.\n",
      "\n",
      "**Evening (Beach or Tapas):**\n",
      "\n",
      "*   **6:00 PM - 7:00 PM: (Optional) Malvarrosa Beach:**\n",
      "    *   Take a taxi or metro to **Malvarrosa Beach** to enjoy the Mediterranean Sea. Walk along the promenade.\n",
      "*   **7:00 PM onwards: Tapas & Dinner:**\n",
      "    *   Head back towards the city center and enjoy tapas in the **El Carmen** neighborhood or find a restaurant for dinner.\n",
      "\n",
      "**Important Considerations:**\n",
      "\n",
      "*   **Pace:** This itinerary is packed, so be prepared to move at a brisk pace.\n",
      "*   **Transportation:** Use a combination of walking, taxis, metro, and possibly bikes to get around efficiently.\n",
      "*   **Prioritize:** Decide what's most important to you and adjust the itinerary accordingly. If you're a big art lover, spend more time at the City of Arts and Sciences and skip the beach.\n",
      "*   **Book in Advance:** If you want to visit the Oceanogràfic or any other specific attraction, book tickets online in advance to avoid queues.\n",
      "*   **Wear Comfortable Shoes:** You'll be doing a lot of walking!\n",
      "\n",
      "Enjoy your day in Valencia! Let me know if you'd like me to elaborate on any of these suggestions.\n"
     ]
    }
   ],
   "source": [
    "res5 = tourist_agent.invoke(\n",
    "    {\"messages\": [{\"role\": \"user\", \"content\": \"I want to see the most important parts of Valencia in one day\"}]},\n",
    "    config=config,\n",
    ")\n",
    "print(res5[\"messages\"][-1].content)"
   ]
  },
  {
   "cell_type": "code",
   "execution_count": 86,
   "id": "80327141",
   "metadata": {},
   "outputs": [
    {
     "name": "stdout",
     "output_type": "stream",
     "text": [
      "The football team that resides in Bilbao is **Athletic Club**, also known as Athletic Bilbao.\n"
     ]
    }
   ],
   "source": [
    "res6 = tourist_agent.invoke(\n",
    "    {\"messages\": [{\"role\": \"user\", \"content\": \"What's the football team that resides in Bilbao?\"}]},\n",
    "    config=config,\n",
    ")\n",
    "print(res6[\"messages\"][-1].content)"
   ]
  },
  {
   "cell_type": "code",
   "execution_count": 87,
   "id": "b4507535",
   "metadata": {},
   "outputs": [
    {
     "name": "stdout",
     "output_type": "stream",
     "text": [
      "To give you the best recommendation, I need a little more information!  Tell me:\n",
      "\n",
      "1.  **What kind of weather do you prefer?** (e.g., sunny and warm, cool and crisp, snowy, etc.)\n",
      "2.  **Where are you located currently (or where will you be flying from)?**  This helps me narrow down destinations that are reasonably accessible.\n",
      "\n",
      "Once I have that, I can use the weather information to suggest some great places to travel on 2025-09-08!\n"
     ]
    }
   ],
   "source": [
    "res7 = tourist_agent.invoke(\n",
    "    {\"messages\": [{\"role\": \"user\", \"content\": \"If I culd go anywhere where should I go because of the weather today 08/09/2025\"}]},\n",
    "    config=config,\n",
    ")\n",
    "print(res7[\"messages\"][-1].content)"
   ]
  }
 ],
 "metadata": {
  "kernelspec": {
   "display_name": "Python 3",
   "language": "python",
   "name": "python3"
  },
  "language_info": {
   "codemirror_mode": {
    "name": "ipython",
    "version": 3
   },
   "file_extension": ".py",
   "mimetype": "text/x-python",
   "name": "python",
   "nbconvert_exporter": "python",
   "pygments_lexer": "ipython3",
   "version": "3.13.7"
  }
 },
 "nbformat": 4,
 "nbformat_minor": 5
}
